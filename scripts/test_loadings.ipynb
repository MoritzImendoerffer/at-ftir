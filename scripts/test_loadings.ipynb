{
 "cells": [
  {
   "cell_type": "code",
   "execution_count": 1,
   "metadata": {
    "collapsed": true
   },
   "outputs": [],
   "source": [
    "from sklearn.decomposition import PCA\n",
    "import numpy as np\n",
    "from matplotlib import pyplot as plt"
   ]
  },
  {
   "cell_type": "code",
   "execution_count": 14,
   "metadata": {},
   "outputs": [],
   "source": [
    "X = np.random.random((3,7))"
   ]
  },
  {
   "cell_type": "code",
   "execution_count": 25,
   "metadata": {},
   "outputs": [
    {
     "data": {
      "text/plain": [
       "array([[ 0.5443367 , -0.45774805,  0.4147663 ,  0.32714475, -0.45763969,\n",
       "        -0.01020703,  0.07464073],\n",
       "       [ 0.08735644, -0.51778431, -0.26075303, -0.01469188,  0.4420186 ,\n",
       "        -0.59317653,  0.32988094],\n",
       "       [-0.17347415,  0.52618253,  0.25855946,  0.53863672, -0.0389301 ,\n",
       "        -0.4192957 ,  0.39841149]])"
      ]
     },
     "execution_count": 25,
     "metadata": {},
     "output_type": "execute_result"
    }
   ],
   "source": [
    "p = PCA(n_components=3)\n",
    "U, S, V = p._fit(X)\n",
    "p.components_"
   ]
  },
  {
   "cell_type": "code",
   "execution_count": 28,
   "metadata": {},
   "outputs": [
    {
     "data": {
      "text/plain": [
       "array([[ 0.5443367 , -0.45774805,  0.4147663 ,  0.32714475, -0.45763969,\n",
       "        -0.01020703,  0.07464073],\n",
       "       [ 0.08735644, -0.51778431, -0.26075303, -0.01469188,  0.4420186 ,\n",
       "        -0.59317653,  0.32988094],\n",
       "       [-0.17347415,  0.52618253,  0.25855946,  0.53863672, -0.0389301 ,\n",
       "        -0.4192957 ,  0.39841149]])"
      ]
     },
     "execution_count": 28,
     "metadata": {},
     "output_type": "execute_result"
    }
   ],
   "source": [
    "p = PCA(n_components=3)\n",
    "p.fit(X)\n",
    "p.components_"
   ]
  },
  {
   "cell_type": "code",
   "execution_count": 29,
   "metadata": {},
   "outputs": [
    {
     "data": {
      "text/plain": [
       "array([[ -3.01212130e-02,   5.94222819e-01,   1.55400145e-17],\n",
       "       [ -6.01599111e-01,  -3.18880359e-01,   4.77814969e-15],\n",
       "       [  6.31720324e-01,  -2.75342460e-01,  -4.51483435e-15]])"
      ]
     },
     "execution_count": 29,
     "metadata": {},
     "output_type": "execute_result"
    }
   ],
   "source": [
    "p.transform(X)"
   ]
  },
  {
   "cell_type": "code",
   "execution_count": 30,
   "metadata": {},
   "outputs": [
    {
     "data": {
      "text/plain": [
       "array([[ 0.5443367 , -0.45774805,  0.4147663 ,  0.32714475, -0.45763969,\n",
       "        -0.01020703,  0.07464073],\n",
       "       [ 0.08735644, -0.51778431, -0.26075303, -0.01469188,  0.4420186 ,\n",
       "        -0.59317653,  0.32988094],\n",
       "       [-0.17347415,  0.52618253,  0.25855946,  0.53863672, -0.0389301 ,\n",
       "        -0.4192957 ,  0.39841149]])"
      ]
     },
     "execution_count": 30,
     "metadata": {},
     "output_type": "execute_result"
    }
   ],
   "source": [
    "p.components_"
   ]
  },
  {
   "cell_type": "code",
   "execution_count": null,
   "metadata": {
    "collapsed": true
   },
   "outputs": [],
   "source": []
  }
 ],
 "metadata": {
  "kernelspec": {
   "display_name": "Python 3",
   "language": "python",
   "name": "python3"
  },
  "language_info": {
   "codemirror_mode": {
    "name": "ipython",
    "version": 3
   },
   "file_extension": ".py",
   "mimetype": "text/x-python",
   "name": "python",
   "nbconvert_exporter": "python",
   "pygments_lexer": "ipython3",
   "version": "3.6.2"
  }
 },
 "nbformat": 4,
 "nbformat_minor": 2
}
